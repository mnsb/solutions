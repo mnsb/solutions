{
 "cells": [
  {
   "cell_type": "markdown",
   "id": "4a2c9c91-c37b-4f18-8b99-35786647f51d",
   "metadata": {},
   "source": [
    "### 1.\tWrite a Python program to print \"Hello Python\"?"
   ]
  },
  {
   "cell_type": "code",
   "execution_count": 1,
   "id": "b93eaba9-8ba7-4b3e-913e-125b24bd20e2",
   "metadata": {},
   "outputs": [
    {
     "name": "stdout",
     "output_type": "stream",
     "text": [
      "Hello Python\n"
     ]
    }
   ],
   "source": [
    "print(\"Hello Python\")"
   ]
  },
  {
   "cell_type": "markdown",
   "id": "32140244-ebcd-4424-862d-d582a8381592",
   "metadata": {},
   "source": [
    "### 2.\tWrite a Python program to do arithmetical operations addition and division.?"
   ]
  },
  {
   "cell_type": "code",
   "execution_count": 2,
   "id": "d04a2e1b-d3ae-4f75-b17e-91b0b8ce2880",
   "metadata": {},
   "outputs": [
    {
     "name": "stdout",
     "output_type": "stream",
     "text": [
      "Addition of 2, 3, is 5\n",
      "Division of 4, 2, is 2.0\n"
     ]
    }
   ],
   "source": [
    "class Operations:\n",
    "    def addition(self,a, b):\n",
    "        return a+b\n",
    "\n",
    "    def division(self,a,b):\n",
    "        return a/b\n",
    "\n",
    "arth = Operations()\n",
    "print(\"Addition of {0}, {1}, is {2}\".format(2,3, arth.addition(2,3)))\n",
    "print(\"Division of {0}, {1}, is {2}\".format(4,2, arth.division(4,2)))"
   ]
  },
  {
   "cell_type": "markdown",
   "id": "c21367e8-e327-44da-b834-4fd73712f610",
   "metadata": {},
   "source": [
    "### 3.\tWrite a Python program to find the area of a triangle?"
   ]
  },
  {
   "cell_type": "code",
   "execution_count": 3,
   "id": "65c6e9a5-92ad-4f17-a0ac-22f223d1f9b9",
   "metadata": {},
   "outputs": [
    {
     "data": {
      "text/plain": [
       "25.0"
      ]
     },
     "execution_count": 3,
     "metadata": {},
     "output_type": "execute_result"
    }
   ],
   "source": [
    "def area_triangle(b,h):\n",
    "    return 0.5*b*h\n",
    "\n",
    "area_triangle(5,10)"
   ]
  },
  {
   "cell_type": "markdown",
   "id": "20d664d6-2b3a-4186-af1f-9198686fc0c4",
   "metadata": {},
   "source": [
    "### 4.\tWrite a Python program to swap two variables?"
   ]
  },
  {
   "cell_type": "code",
   "execution_count": 4,
   "id": "30779536-bce6-4700-82d4-c94c47dfad1c",
   "metadata": {},
   "outputs": [
    {
     "data": {
      "text/plain": [
       "(8, 4)"
      ]
     },
     "execution_count": 4,
     "metadata": {},
     "output_type": "execute_result"
    }
   ],
   "source": [
    "def swap(a,b):\n",
    "    \"\"\"Swap using a third variable\"\"\"\n",
    "    c=a\n",
    "    a=b\n",
    "    b=c\n",
    "    return a,b\n",
    "\n",
    "swap(4,8)"
   ]
  },
  {
   "cell_type": "markdown",
   "id": "71225a02-2fd7-4152-8286-813144e9c02f",
   "metadata": {},
   "source": [
    "### 5.\tWrite a Python program to generate a random number?"
   ]
  },
  {
   "cell_type": "code",
   "execution_count": 5,
   "id": "86c26c7b-4119-433e-aca1-3854eb1968f8",
   "metadata": {},
   "outputs": [
    {
     "data": {
      "text/plain": [
       "96"
      ]
     },
     "execution_count": 5,
     "metadata": {},
     "output_type": "execute_result"
    }
   ],
   "source": [
    "from random import randint\n",
    "\n",
    "class Random:\n",
    "    \n",
    "    def generateRandomNumber(self,start=0,end=1000):\n",
    "        return randint(start,end)\n",
    "\n",
    "a= Random()\n",
    "a.generateRandomNumber(0,100)"
   ]
  }
 ],
 "metadata": {
  "kernelspec": {
   "display_name": "Python 3 (ipykernel)",
   "language": "python",
   "name": "python3"
  },
  "language_info": {
   "codemirror_mode": {
    "name": "ipython",
    "version": 3
   },
   "file_extension": ".py",
   "mimetype": "text/x-python",
   "name": "python",
   "nbconvert_exporter": "python",
   "pygments_lexer": "ipython3",
   "version": "3.12.4"
  }
 },
 "nbformat": 4,
 "nbformat_minor": 5
}
