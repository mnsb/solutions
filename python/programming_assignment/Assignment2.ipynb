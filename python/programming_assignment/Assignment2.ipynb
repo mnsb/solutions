{
 "cells": [
  {
   "cell_type": "markdown",
   "id": "7027cb27-72e3-4ea8-b602-0aa1948a69f6",
   "metadata": {},
   "source": [
    "### 1.\tWrite a Python program to convert kilometers to miles?"
   ]
  },
  {
   "cell_type": "code",
   "execution_count": 1,
   "id": "f70729c0-12de-40be-9ad9-e4f7617f18cc",
   "metadata": {},
   "outputs": [
    {
     "name": "stdin",
     "output_type": "stream",
     "text": [
      "Enter the km value:  100\n"
     ]
    },
    {
     "name": "stdout",
     "output_type": "stream",
     "text": [
      "The km value in miles is:  62.13999999999999\n"
     ]
    }
   ],
   "source": [
    "def kmtom():\n",
    "    km = int(input(\"Enter the km value: \"))\n",
    "    print(\"The km value in miles is: \",(km*0.6214))\n",
    "\n",
    "kmtom()"
   ]
  },
  {
   "cell_type": "markdown",
   "id": "364a83d1-1874-4017-b9d8-b391b2446dce",
   "metadata": {},
   "source": [
    "### 2.\tWrite a Python program to convert Celsius to Fahrenheit?"
   ]
  },
  {
   "cell_type": "code",
   "execution_count": 2,
   "id": "5c093958-0ebe-49a5-906a-7dae4395a250",
   "metadata": {},
   "outputs": [
    {
     "name": "stdin",
     "output_type": "stream",
     "text": [
      "Enter the celsius value:  100\n"
     ]
    },
    {
     "name": "stdout",
     "output_type": "stream",
     "text": [
      "The Fahrenheit value:  212.0\n"
     ]
    }
   ],
   "source": [
    "def celtoFah():\n",
    "    cel = int(input(\"Enter the celsius value: \"))\n",
    "    print(\"The Fahrenheit value: \", ((cel*9/5)+32))\n",
    "\n",
    "celtoFah()"
   ]
  },
  {
   "cell_type": "markdown",
   "id": "ba6a6e1b-9f20-4eba-8dec-7180b7adb35a",
   "metadata": {},
   "source": [
    "### 3.\tWrite a Python program to display calendar?"
   ]
  },
  {
   "cell_type": "code",
   "execution_count": 3,
   "id": "b01f971b-313b-4638-b1ff-bf15bba7f552",
   "metadata": {},
   "outputs": [],
   "source": [
    "import calendar"
   ]
  },
  {
   "cell_type": "code",
   "execution_count": 4,
   "id": "6b9b59ab-2461-406e-a3d3-e0502ca09194",
   "metadata": {},
   "outputs": [
    {
     "name": "stdin",
     "output_type": "stream",
     "text": [
      "Enter the calender year:  2024\n"
     ]
    },
    {
     "name": "stdout",
     "output_type": "stream",
     "text": [
      "                                  2024\n",
      "\n",
      "      January                   February                   March\n",
      "Mo Tu We Th Fr Sa Su      Mo Tu We Th Fr Sa Su      Mo Tu We Th Fr Sa Su\n",
      " 1  2  3  4  5  6  7                1  2  3  4                   1  2  3\n",
      " 8  9 10 11 12 13 14       5  6  7  8  9 10 11       4  5  6  7  8  9 10\n",
      "15 16 17 18 19 20 21      12 13 14 15 16 17 18      11 12 13 14 15 16 17\n",
      "22 23 24 25 26 27 28      19 20 21 22 23 24 25      18 19 20 21 22 23 24\n",
      "29 30 31                  26 27 28 29               25 26 27 28 29 30 31\n",
      "\n",
      "       April                      May                       June\n",
      "Mo Tu We Th Fr Sa Su      Mo Tu We Th Fr Sa Su      Mo Tu We Th Fr Sa Su\n",
      " 1  2  3  4  5  6  7             1  2  3  4  5                      1  2\n",
      " 8  9 10 11 12 13 14       6  7  8  9 10 11 12       3  4  5  6  7  8  9\n",
      "15 16 17 18 19 20 21      13 14 15 16 17 18 19      10 11 12 13 14 15 16\n",
      "22 23 24 25 26 27 28      20 21 22 23 24 25 26      17 18 19 20 21 22 23\n",
      "29 30                     27 28 29 30 31            24 25 26 27 28 29 30\n",
      "\n",
      "        July                     August                  September\n",
      "Mo Tu We Th Fr Sa Su      Mo Tu We Th Fr Sa Su      Mo Tu We Th Fr Sa Su\n",
      " 1  2  3  4  5  6  7                1  2  3  4                         1\n",
      " 8  9 10 11 12 13 14       5  6  7  8  9 10 11       2  3  4  5  6  7  8\n",
      "15 16 17 18 19 20 21      12 13 14 15 16 17 18       9 10 11 12 13 14 15\n",
      "22 23 24 25 26 27 28      19 20 21 22 23 24 25      16 17 18 19 20 21 22\n",
      "29 30 31                  26 27 28 29 30 31         23 24 25 26 27 28 29\n",
      "                                                    30\n",
      "\n",
      "      October                   November                  December\n",
      "Mo Tu We Th Fr Sa Su      Mo Tu We Th Fr Sa Su      Mo Tu We Th Fr Sa Su\n",
      "    1  2  3  4  5  6                   1  2  3                         1\n",
      " 7  8  9 10 11 12 13       4  5  6  7  8  9 10       2  3  4  5  6  7  8\n",
      "14 15 16 17 18 19 20      11 12 13 14 15 16 17       9 10 11 12 13 14 15\n",
      "21 22 23 24 25 26 27      18 19 20 21 22 23 24      16 17 18 19 20 21 22\n",
      "28 29 30 31               25 26 27 28 29 30         23 24 25 26 27 28 29\n",
      "                                                    30 31\n",
      "\n"
     ]
    }
   ],
   "source": [
    "def displayCalender():\n",
    "    yr = int(input(\"Enter the calender year: \"))\n",
    "    print( calendar.calendar(yr))\n",
    "\n",
    "displayCalender()\n"
   ]
  },
  {
   "cell_type": "markdown",
   "id": "7cba9ae5-b227-4641-8255-fd310fd6d52f",
   "metadata": {},
   "source": [
    "### 4.\tWrite a Python program to solve quadratic equation?"
   ]
  },
  {
   "cell_type": "code",
   "execution_count": 5,
   "id": "54bb434c-d3f9-4c47-9fe3-602335e36a47",
   "metadata": {},
   "outputs": [],
   "source": [
    "import math, cmath"
   ]
  },
  {
   "cell_type": "code",
   "execution_count": 6,
   "id": "97f2ae20-c607-4e9b-9757-c16e78016a04",
   "metadata": {},
   "outputs": [],
   "source": [
    "def quadRoots(a,b,c):\n",
    "    if (a!=0):\n",
    "         # calculate discriminant\n",
    "        dis = (b**2 -(4*a*c))\n",
    "        \n",
    "        if (dis>0):\n",
    "            print(\"roots are real and different\")\n",
    "            x1 = (-b+math.sqrt(dis))/(2*a)\n",
    "            x2 = (-b-math.sqrt(dis))/(2*a)\n",
    "            \n",
    "        elif (dis<0):\n",
    "            print(\"roots are complex\")\n",
    "            x1 = (-b+cmath.sqrt(dis))/(2*a)\n",
    "            x2 = (-b-cmath.sqrt(dis))/(2*a)\n",
    "            \n",
    "        else:\n",
    "            print(\"roots are equal\")\n",
    "            x2 = -b/(2*a)\n",
    "            x1=x2\n",
    "        return x1,x2\n",
    "    else:\n",
    "        return \"Equation is not valid quadratic equation\""
   ]
  },
  {
   "cell_type": "code",
   "execution_count": 7,
   "id": "acd7e9f1-8805-49bc-a6ed-0ce61c4dfd97",
   "metadata": {},
   "outputs": [
    {
     "name": "stdout",
     "output_type": "stream",
     "text": [
      "roots are real and different\n"
     ]
    },
    {
     "data": {
      "text/plain": [
       "(-2.0, -3.0)"
      ]
     },
     "execution_count": 7,
     "metadata": {},
     "output_type": "execute_result"
    }
   ],
   "source": [
    "quadRoots(1,5,6)"
   ]
  },
  {
   "cell_type": "code",
   "execution_count": 8,
   "id": "c4f2227d-4ebe-4324-9d8e-7686f27fa65d",
   "metadata": {},
   "outputs": [
    {
     "name": "stdout",
     "output_type": "stream",
     "text": [
      "roots are complex\n"
     ]
    },
    {
     "data": {
      "text/plain": [
       "((1.5+2.7838821814150108j), (1.5-2.7838821814150108j))"
      ]
     },
     "execution_count": 8,
     "metadata": {},
     "output_type": "execute_result"
    }
   ],
   "source": [
    "quadRoots(1,-3,10)"
   ]
  },
  {
   "cell_type": "code",
   "execution_count": 9,
   "id": "2b3a4502-bf78-4560-8943-f591b60114ae",
   "metadata": {},
   "outputs": [
    {
     "name": "stdout",
     "output_type": "stream",
     "text": [
      "roots are equal\n"
     ]
    },
    {
     "data": {
      "text/plain": [
       "(-1.5, -1.5)"
      ]
     },
     "execution_count": 9,
     "metadata": {},
     "output_type": "execute_result"
    }
   ],
   "source": [
    "quadRoots(4,12,9)"
   ]
  },
  {
   "cell_type": "markdown",
   "id": "5afbacf5-c5c1-4848-a6c1-64be99b13545",
   "metadata": {},
   "source": [
    "### 5.\tWrite a Python program to swap two variables without temp variable?"
   ]
  },
  {
   "cell_type": "code",
   "execution_count": 10,
   "id": "6820ee51-4c07-47ea-922c-8fd43cace038",
   "metadata": {},
   "outputs": [],
   "source": [
    "def swap():\n",
    "    x1= int(input(\"Enter the first number\"))\n",
    "    x2= int(input(\"Enter the second number\"))\n",
    "    x1=x1+x2\n",
    "    x2=x1-x2\n",
    "    x1=x1-x2\n",
    "    return x1,x2"
   ]
  },
  {
   "cell_type": "code",
   "execution_count": 12,
   "id": "f8fcc296-500b-421c-9544-6ea3c6bfecf6",
   "metadata": {},
   "outputs": [
    {
     "name": "stdin",
     "output_type": "stream",
     "text": [
      "Enter the first number 2\n",
      "Enter the second number 9\n"
     ]
    },
    {
     "data": {
      "text/plain": [
       "(9, 2)"
      ]
     },
     "execution_count": 12,
     "metadata": {},
     "output_type": "execute_result"
    }
   ],
   "source": [
    "swap()"
   ]
  },
  {
   "cell_type": "code",
   "execution_count": null,
   "id": "23c46912-cae8-44c8-8513-82828640fb2f",
   "metadata": {},
   "outputs": [],
   "source": []
  }
 ],
 "metadata": {
  "kernelspec": {
   "display_name": "Python 3 (ipykernel)",
   "language": "python",
   "name": "python3"
  },
  "language_info": {
   "codemirror_mode": {
    "name": "ipython",
    "version": 3
   },
   "file_extension": ".py",
   "mimetype": "text/x-python",
   "name": "python",
   "nbconvert_exporter": "python",
   "pygments_lexer": "ipython3",
   "version": "3.12.4"
  }
 },
 "nbformat": 4,
 "nbformat_minor": 5
}
